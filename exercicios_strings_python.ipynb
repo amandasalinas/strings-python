{
  "nbformat": 4,
  "nbformat_minor": 0,
  "metadata": {
    "colab": {
      "name": "exercicios-strings_Amanda-Salinas.ipynb",
      "provenance": []
    },
    "kernelspec": {
      "name": "python3",
      "display_name": "Python 3"
    },
    "language_info": {
      "name": "python"
    }
  },
  "cells": [
    {
      "cell_type": "markdown",
      "source": [
        "# Exercícios práticos - Variáveis - Strings\n",
        "1. O TNF alfa é uma citocina pró inflamatória capaz de provocar a apoptose (morte) de células tumorais. Dada\n",
        "a sua sequência de aminoácidos:  **VRSSSRTPSDKPVAHVVANPQAEGQLQWLNRRANALLANGVELRDNQLVVPSEGLYLIYSQVLFKGQGCPSTHVLLTHT \n",
        "ISRIAVSYQTKVNLLSAIKSPCQRETPEGAEAKPWYEPIYLGGVFQLEKGDRLSAEINRPDYLLFAESGQVYFGIIAL**\n",
        "\n",
        "realize as seguintes tarefas: \n",
        "\n",
        "*   Retorne o tamanho da sequência.\n",
        "*   Realize a contagem da ocorrência de um sequência de leucinas (LL).\n",
        "*   Encontre na sequência as posições ocupadas por duas glicinas (GG) e duas argininas (RR).\n",
        "*   Retorne os 100 primeiros aminoácidos da sequência.\n",
        "*   Substitua o trecho da sequência com a ocorrência de 3 serinas e 1 arginina (SSSR) por alaninas.\n",
        "*   Quebre a sequência no local onde a substituição foi realizada.\n",
        "\n",
        "\n"
      ],
      "metadata": {
        "id": "60aHkzWVDb1O"
      }
    },
    {
      "cell_type": "code",
      "source": [
        "seq = 'VRSSSRTPSDKPVAHVVANPQAEGQLQWLNRRANALLANGVELRDNQLVVPSEGLYLIYSQVLFKGQGCPSTHVLLTHTISRIAVSYQTKVNLLSAIKSPCQRETPEGAEAKPWYEPIYLGGVFQLEKGDRLSAEINRPDYLLFAESGQVYFGIIAL'\n",
        "print(seq)"
      ],
      "metadata": {
        "colab": {
          "base_uri": "https://localhost:8080/"
        },
        "id": "gOJICCr-Djdu",
        "outputId": "60dbd74b-d4be-42b5-f563-d2bf07cba4ab"
      },
      "execution_count": 4,
      "outputs": [
        {
          "output_type": "stream",
          "name": "stdout",
          "text": [
            "VRSSSRTPSDKPVAHVVANPQAEGQLQWLNRRANALLANGVELRDNQLVVPSEGLYLIYSQVLFKGQGCPSTHVLLTHTISRIAVSYQTKVNLLSAIKSPCQRETPEGAEAKPWYEPIYLGGVFQLEKGDRLSAEINRPDYLLFAESGQVYFGIIAL\n"
          ]
        }
      ]
    },
    {
      "cell_type": "code",
      "source": [
        "# a) Retorne o tamanho da sequência\n",
        "len(seq) # ou print(len(seq))"
      ],
      "metadata": {
        "colab": {
          "base_uri": "https://localhost:8080/"
        },
        "id": "9rV9gfMlEWbx",
        "outputId": "82faea27-36bd-478a-82c9-7934c74d6a9b"
      },
      "execution_count": 57,
      "outputs": [
        {
          "output_type": "execute_result",
          "data": {
            "text/plain": [
              "157"
            ]
          },
          "metadata": {},
          "execution_count": 57
        }
      ]
    },
    {
      "cell_type": "code",
      "source": [
        "# b) Realize a contagem da ocorrência de uma sequência de leucinas (LL)\n",
        "seq.count('LL')"
      ],
      "metadata": {
        "colab": {
          "base_uri": "https://localhost:8080/"
        },
        "id": "UY0OrFpUFWCY",
        "outputId": "1f3d92e9-71f3-4ef6-a4ab-c4c2e8e4b015"
      },
      "execution_count": 45,
      "outputs": [
        {
          "output_type": "execute_result",
          "data": {
            "text/plain": [
              "4"
            ]
          },
          "metadata": {},
          "execution_count": 45
        }
      ]
    },
    {
      "cell_type": "code",
      "source": [
        "# c) Encontre na sequência as posições ocupadas por duas glicinas (GG) e duas argininas (RR)\n",
        "print('Glicinas ocorre na posição:', seq.find('GG'))\n",
        "print('Argininas ocorre na posição:', seq.find('RR'))"
      ],
      "metadata": {
        "colab": {
          "base_uri": "https://localhost:8080/"
        },
        "id": "RVn7UNT4Fr1y",
        "outputId": "f233cfa7-89ac-4ae7-e2f2-c3c117c48574"
      },
      "execution_count": 61,
      "outputs": [
        {
          "output_type": "stream",
          "name": "stdout",
          "text": [
            "Glicinas ocorre na posição: 120\n",
            "Argininas ocorre na posição: 30\n"
          ]
        }
      ]
    },
    {
      "cell_type": "code",
      "source": [
        "# d) Retorne os 100 primeiros aminoácidos da sequência\n",
        "seq[0:100]"
      ],
      "metadata": {
        "colab": {
          "base_uri": "https://localhost:8080/",
          "height": 35
        },
        "id": "OJq-9NshFwcJ",
        "outputId": "70828a7e-afd1-4744-c882-f46237bb2b2b"
      },
      "execution_count": 63,
      "outputs": [
        {
          "output_type": "execute_result",
          "data": {
            "application/vnd.google.colaboratory.intrinsic+json": {
              "type": "string"
            },
            "text/plain": [
              "'VRSSSRTPSDKPVAHVVANPQAEGQLQWLNRRANALLANGVELRDNQLVVPSEGLYLIYSQVLFKGQGCPSTHVLLTHTISRIAVSYQTKVNLLSAIKSP'"
            ]
          },
          "metadata": {},
          "execution_count": 63
        }
      ]
    },
    {
      "cell_type": "code",
      "source": [
        "# e) Substitua o trecho da sequência com a ocorrência de 3 serinas e 1 arginina (SSSR) por alaninas (AAAA)\n",
        "substituir = seq.replace('SSSR', 'AAAA')\n",
        "print(seq)\n",
        "print(substituir)"
      ],
      "metadata": {
        "colab": {
          "base_uri": "https://localhost:8080/"
        },
        "id": "ao3Oqy03Gv0A",
        "outputId": "1daf4611-e7c4-43df-b0c1-1e56afafc08c"
      },
      "execution_count": 65,
      "outputs": [
        {
          "output_type": "stream",
          "name": "stdout",
          "text": [
            "VRSSSRTPSDKPVAHVVANPQAEGQLQWLNRRANALLANGVELRDNQLVVPSEGLYLIYSQVLFKGQGCPSTHVLLTHTISRIAVSYQTKVNLLSAIKSPCQRETPEGAEAKPWYEPIYLGGVFQLEKGDRLSAEINRPDYLLFAESGQVYFGIIAL\n",
            "VRAAAATPSDKPVAHVVANPQAEGQLQWLNRRANALLANGVELRDNQLVVPSEGLYLIYSQVLFKGQGCPSTHVLLTHTISRIAVSYQTKVNLLSAIKSPCQRETPEGAEAKPWYEPIYLGGVFQLEKGDRLSAEINRPDYLLFAESGQVYFGIIAL\n"
          ]
        }
      ]
    },
    {
      "cell_type": "code",
      "source": [
        "# f) Quebre a sequência no local onde a substituição foi realizada\n",
        "print(substituir.split('AAAA'))"
      ],
      "metadata": {
        "colab": {
          "base_uri": "https://localhost:8080/"
        },
        "id": "JONLx58EHW8y",
        "outputId": "7c1e70c7-11f2-4a9b-ff77-361719f612dd"
      },
      "execution_count": 68,
      "outputs": [
        {
          "output_type": "stream",
          "name": "stdout",
          "text": [
            "['VR', 'TPSDKPVAHVVANPQAEGQLQWLNRRANALLANGVELRDNQLVVPSEGLYLIYSQVLFKGQGCPSTHVLLTHTISRIAVSYQTKVNLLSAIKSPCQRETPEGAEAKPWYEPIYLGGVFQLEKGDRLSAEINRPDYLLFAESGQVYFGIIAL']\n"
          ]
        }
      ]
    },
    {
      "cell_type": "markdown",
      "source": [
        "2. Utilizando o texto abaixo: <br>\n",
        "\"As proteínas são cadeias polipeptídicas formadas pela ligação peptídica entre resíduos de aminoácidos. Existem 20 tipos de aminoácidos comumente encontrados nos seres vivos. A esses aminoácidos, foram atribuídas abreviações de 3 letras e símbolos de 1 letra. As abreviações de 3 letras são bastante evidentes consistindo nas três primeiras letras do se nome.\"\n",
        "<br><br>\n",
        "Realiza as seguintes tarefas: \n",
        "\n",
        "\n",
        "*   Passe todo o texto para letras maiúsculas.\n",
        "*   Passe todo o texto para letras minúsculas. \n",
        "*   Passe cada primeira letra de palavra em maiúsculo. \n",
        "*   Transforme as letras maiúsculas em minúsculas e vice-versa. \n",
        "\n",
        "\n"
      ],
      "metadata": {
        "id": "hNJf_fm1H7M4"
      }
    },
    {
      "cell_type": "code",
      "source": [
        "texto = 'As proteínas são cadeias polipeptídicas formadas pela ligação peptídica entre resíduos de aminoácidos. Existem 20 tipos de aminoácidos comumente encontrados nos seres vivos. A esses aminoácidos, foram atribuídas abreviações de 3 letras e símbolos de 1 letra. As abreviações de 3 letras são bastante evidentes consistindo nas três primeiras letras do se nome.'\n",
        "print(texto)"
      ],
      "metadata": {
        "colab": {
          "base_uri": "https://localhost:8080/"
        },
        "id": "LJSMgNMXH-IG",
        "outputId": "e10fd48e-00a0-40c7-d710-12e450873e01"
      },
      "execution_count": 22,
      "outputs": [
        {
          "output_type": "stream",
          "name": "stdout",
          "text": [
            "As proteínas são cadeias polipeptídicas formadas pela ligação peptídica entre resíduos de aminoácidos. Existem 20 tipos de aminoácidos comumente encontrados nos seres vivos. A esses aminoácidos, foram atribuídas abreviações de 3 letras e símbolos de 1 letra. As abreviações de 3 letras são bastante evidentes consistindo nas três primeiras letras do se nome.\n"
          ]
        }
      ]
    },
    {
      "cell_type": "code",
      "source": [
        "# a) Passe todo o texto para letras maiúsculas\n",
        "texto.upper()"
      ],
      "metadata": {
        "colab": {
          "base_uri": "https://localhost:8080/",
          "height": 53
        },
        "id": "vLW4MFq7J7DQ",
        "outputId": "c3709b68-8357-471e-b3a4-a7dc6d4793a0"
      },
      "execution_count": 53,
      "outputs": [
        {
          "output_type": "execute_result",
          "data": {
            "application/vnd.google.colaboratory.intrinsic+json": {
              "type": "string"
            },
            "text/plain": [
              "'AS PROTEÍNAS SÃO CADEIAS POLIPEPTÍDICAS FORMADAS PELA LIGAÇÃO PEPTÍDICA ENTRE RESÍDUOS DE AMINOÁCIDOS. EXISTEM 20 TIPOS DE AMINOÁCIDOS COMUMENTE ENCONTRADOS NOS SERES VIVOS. A ESSES AMINOÁCIDOS, FORAM ATRIBUÍDAS ABREVIAÇÕES DE 3 LETRAS E SÍMBOLOS DE 1 LETRA. AS ABREVIAÇÕES DE 3 LETRAS SÃO BASTANTE EVIDENTES CONSISTINDO NAS TRÊS PRIMEIRAS LETRAS DO SE NOME.'"
            ]
          },
          "metadata": {},
          "execution_count": 53
        }
      ]
    },
    {
      "cell_type": "code",
      "source": [
        "# b) Passe todo o texto para letras minúsculas\n",
        "texto.lower()"
      ],
      "metadata": {
        "colab": {
          "base_uri": "https://localhost:8080/",
          "height": 53
        },
        "id": "1FlUw4OyKdyD",
        "outputId": "11f5670e-8c68-43a3-8855-b9ed6f7045df"
      },
      "execution_count": 54,
      "outputs": [
        {
          "output_type": "execute_result",
          "data": {
            "application/vnd.google.colaboratory.intrinsic+json": {
              "type": "string"
            },
            "text/plain": [
              "'as proteínas são cadeias polipeptídicas formadas pela ligação peptídica entre resíduos de aminoácidos. existem 20 tipos de aminoácidos comumente encontrados nos seres vivos. a esses aminoácidos, foram atribuídas abreviações de 3 letras e símbolos de 1 letra. as abreviações de 3 letras são bastante evidentes consistindo nas três primeiras letras do se nome.'"
            ]
          },
          "metadata": {},
          "execution_count": 54
        }
      ]
    },
    {
      "cell_type": "code",
      "source": [
        "# c) Passe cada primeira letra de palavra em maiúsculo\n",
        "texto.title()"
      ],
      "metadata": {
        "colab": {
          "base_uri": "https://localhost:8080/",
          "height": 53
        },
        "id": "TXWiFtMYKmpS",
        "outputId": "97bc8cbd-177e-4907-ced1-b571f41c1435"
      },
      "execution_count": 55,
      "outputs": [
        {
          "output_type": "execute_result",
          "data": {
            "application/vnd.google.colaboratory.intrinsic+json": {
              "type": "string"
            },
            "text/plain": [
              "'As Proteínas São Cadeias Polipeptídicas Formadas Pela Ligação Peptídica Entre Resíduos De Aminoácidos. Existem 20 Tipos De Aminoácidos Comumente Encontrados Nos Seres Vivos. A Esses Aminoácidos, Foram Atribuídas Abreviações De 3 Letras E Símbolos De 1 Letra. As Abreviações De 3 Letras São Bastante Evidentes Consistindo Nas Três Primeiras Letras Do Se Nome.'"
            ]
          },
          "metadata": {},
          "execution_count": 55
        }
      ]
    },
    {
      "cell_type": "code",
      "source": [
        "# d) Transforme as letras maiúsculas em minúsculas e vice-versa\n",
        "texto.swapcase()"
      ],
      "metadata": {
        "colab": {
          "base_uri": "https://localhost:8080/",
          "height": 53
        },
        "id": "T5leCcR-KyT5",
        "outputId": "3bc1f619-1f33-4f3b-f387-de5c013debf0"
      },
      "execution_count": 56,
      "outputs": [
        {
          "output_type": "execute_result",
          "data": {
            "application/vnd.google.colaboratory.intrinsic+json": {
              "type": "string"
            },
            "text/plain": [
              "'aS PROTEÍNAS SÃO CADEIAS POLIPEPTÍDICAS FORMADAS PELA LIGAÇÃO PEPTÍDICA ENTRE RESÍDUOS DE AMINOÁCIDOS. eXISTEM 20 TIPOS DE AMINOÁCIDOS COMUMENTE ENCONTRADOS NOS SERES VIVOS. a ESSES AMINOÁCIDOS, FORAM ATRIBUÍDAS ABREVIAÇÕES DE 3 LETRAS E SÍMBOLOS DE 1 LETRA. aS ABREVIAÇÕES DE 3 LETRAS SÃO BASTANTE EVIDENTES CONSISTINDO NAS TRÊS PRIMEIRAS LETRAS DO SE NOME.'"
            ]
          },
          "metadata": {},
          "execution_count": 56
        }
      ]
    },
    {
      "cell_type": "markdown",
      "source": [
        "3. Utilizando a sequência: **insulin_signal = “MALWMRLLPLLALLALWGPDPAAA”**\n",
        "<br>\n",
        "Realize as seguintes tarefas: \n",
        "\n",
        "*   Retorne o tamanho da sequência apresentada.\n",
        "*   Quebre a sequência no trecho “LLALLALWG\". \n",
        "*   Concatene as sequências resultantes obtendo a seguinte sequência final MALWMRLLPPDPAAA.\n",
        "*   Substitua o trecho \"DPAAA\" por “LLALL”.\n",
        "\n"
      ],
      "metadata": {
        "id": "tlzAHqRaMQhp"
      }
    },
    {
      "cell_type": "code",
      "source": [
        "insulin_signal = 'MALWMRLLPLLALLALWGPDPAAA'\n",
        "print(insulin_signal)"
      ],
      "metadata": {
        "colab": {
          "base_uri": "https://localhost:8080/"
        },
        "id": "dz81EDm4M9X1",
        "outputId": "59238f80-bd49-45bc-bcda-6c532d9cf2b1"
      },
      "execution_count": 34,
      "outputs": [
        {
          "output_type": "stream",
          "name": "stdout",
          "text": [
            "MALWMRLLPLLALLALWGPDPAAA\n"
          ]
        }
      ]
    },
    {
      "cell_type": "code",
      "source": [
        "# a) Retorne o tamanho da sequência apresentada\n",
        "len(insulin_signal)"
      ],
      "metadata": {
        "colab": {
          "base_uri": "https://localhost:8080/"
        },
        "id": "dnJ_shX5OvQC",
        "outputId": "5481a808-e5a7-41b3-d8a5-28869faf1afd"
      },
      "execution_count": 36,
      "outputs": [
        {
          "output_type": "stream",
          "name": "stdout",
          "text": [
            "24\n"
          ]
        }
      ]
    },
    {
      "cell_type": "code",
      "source": [
        "# b) Quebre a sequência no trecho “LLALLALWG\"\n",
        "seq_quebrada = insulin_signal.split('LLALLALWG')\n",
        "print(seq_quebrada)"
      ],
      "metadata": {
        "colab": {
          "base_uri": "https://localhost:8080/"
        },
        "id": "KzApwEmDPES5",
        "outputId": "54fadc32-d83a-4ab1-f7ed-6eb33493ff05"
      },
      "execution_count": 69,
      "outputs": [
        {
          "output_type": "stream",
          "name": "stdout",
          "text": [
            "['MALWMRLLP', 'PDPAAA']\n"
          ]
        }
      ]
    },
    {
      "cell_type": "code",
      "source": [
        "# c) Concatene as sequências resultantes obtendo a seguinte sequência final MALWMRLLPPDPAAA\n",
        "juntar_seq = seq_quebrada[0] + seq_quebrada[1]\n",
        "print(juntar_seq)\n"
      ],
      "metadata": {
        "colab": {
          "base_uri": "https://localhost:8080/"
        },
        "id": "vGRCxvGgPdTK",
        "outputId": "ad753d86-1a17-40b8-c420-1f7b62d5b041"
      },
      "execution_count": 70,
      "outputs": [
        {
          "output_type": "stream",
          "name": "stdout",
          "text": [
            "MALWMRLLPPDPAAA\n"
          ]
        }
      ]
    },
    {
      "cell_type": "code",
      "source": [
        "# d) Substitua o trecho \"DPAAA\" por “LLALL”\n",
        "seq_final = juntar_seq.replace('DPAAA', 'LLALL')\n",
        "print(seq_final)"
      ],
      "metadata": {
        "colab": {
          "base_uri": "https://localhost:8080/"
        },
        "id": "1elWIC-wP7BK",
        "outputId": "9f161173-7516-49ba-ea3a-bd4c47b6b070"
      },
      "execution_count": 72,
      "outputs": [
        {
          "output_type": "stream",
          "name": "stdout",
          "text": [
            "MALWMRLLPPLLALL\n"
          ]
        }
      ]
    },
    {
      "cell_type": "markdown",
      "source": [
        "4. Com base na sequência de DNA **GATGGAACTTGACGTAAACCTATATT** retorne a sequência de RNA correspondente sendo a mesma **GAUGGAACUUGACGUAAACCUAUAUU**."
      ],
      "metadata": {
        "id": "aTCh7wvRQUAQ"
      }
    },
    {
      "cell_type": "code",
      "source": [
        "dna = 'GATGGAACTTGACGTAAACCTATATT'\n",
        "rna = dna.replace('T', 'U')\n",
        "print(rna)"
      ],
      "metadata": {
        "colab": {
          "base_uri": "https://localhost:8080/"
        },
        "id": "3Th34zHWQbgI",
        "outputId": "bf95cbe1-defe-4b9a-9c0d-51b4c0c763d9"
      },
      "execution_count": 43,
      "outputs": [
        {
          "output_type": "stream",
          "name": "stdout",
          "text": [
            "GAUGGAACUUGACGUAAACCUAUAUU\n"
          ]
        }
      ]
    }
  ]
}